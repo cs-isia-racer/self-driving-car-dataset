{
 "cells": [
  {
   "cell_type": "code",
   "execution_count": 1,
   "metadata": {},
   "outputs": [],
   "source": [
    "import numpy as np\n",
    "import matplotlib.pyplot as plt\n",
    "\n",
    "plt.ion()"
   ]
  },
  {
   "cell_type": "code",
   "execution_count": 3,
   "metadata": {},
   "outputs": [],
   "source": [
    "with open(\"./dataset/resnet18/x.data\", \"rb\") as f:\n",
    "     x = np.load(f)\n",
    "        \n",
    "with open(\"./dataset/resnet18/y.data\", \"rb\") as f:\n",
    "     y = np.load(f)"
   ]
  },
  {
   "cell_type": "code",
   "execution_count": 4,
   "metadata": {},
   "outputs": [
    {
     "name": "stdout",
     "output_type": "stream",
     "text": [
      "(40000, 512) (40000,)\n"
     ]
    }
   ],
   "source": [
    "print(x.shape, y.shape)"
   ]
  },
  {
   "cell_type": "code",
   "execution_count": 5,
   "metadata": {},
   "outputs": [
    {
     "data": {
      "text/plain": [
       "SVR(C=1.0, cache_size=200, coef0=0.0, degree=3, epsilon=0.1, gamma='scale',\n",
       "    kernel='rbf', max_iter=-1, shrinking=True, tol=0.001, verbose=False)"
      ]
     },
     "execution_count": 5,
     "metadata": {},
     "output_type": "execute_result"
    }
   ],
   "source": [
    "from sklearn.svm import SVR\n",
    "\n",
    "model = SVR(gamma='scale', epsilon=0.1)\n",
    "\n",
    "model.fit(x, y)"
   ]
  },
  {
   "cell_type": "code",
   "execution_count": 15,
   "metadata": {},
   "outputs": [],
   "source": [
    "import torchvision.models as models\n",
    "import torch.nn as nn\n",
    "import torch\n",
    "import datautil\n",
    "\n",
    "feat_model = models.resnet18(pretrained=True)\n",
    "\n",
    "# Strip the last linear layer\n",
    "feat_model.fc = nn.Sequential()\n",
    "\n",
    "pipeline = datautil.Pipeline(feat_model, model)\n",
    "_, _, scaler = datautil.create_loader(None)"
   ]
  },
  {
   "cell_type": "code",
   "execution_count": 16,
   "metadata": {},
   "outputs": [],
   "source": [
    "import os\n",
    "\n",
    "# Read the diplecs dataset\n",
    "diplecs_root = \"../diplecs-dataset/224_dataset\"\n",
    "image_files = sorted(os.listdir(diplecs_root + \"/images\"))[:1000]"
   ]
  },
  {
   "cell_type": "code",
   "execution_count": 24,
   "metadata": {},
   "outputs": [],
   "source": [
    "import cv2"
   ]
  },
  {
   "cell_type": "code",
   "execution_count": 25,
   "metadata": {},
   "outputs": [
    {
     "name": "stdout",
     "output_type": "stream",
     "text": [
      "torch.Size([1000, 512])\n"
     ]
    }
   ],
   "source": [
    "from PIL import Image\n",
    "import importlib\n",
    "importlib.reload(datautil)\n",
    "\n",
    "images = [Image.open(diplecs_root + \"/images/\" + p).convert(\"RGB\") for p in image_files]\n",
    "angles = scaler.inverse_transform(pipeline.predict(images).reshape(-1, 1))"
   ]
  },
  {
   "cell_type": "code",
   "execution_count": 70,
   "metadata": {},
   "outputs": [],
   "source": [
    "import math\n",
    "\n",
    "fps = 24\n",
    "fourcc = cv2.VideoWriter_fourcc(*'MJPG')\n",
    "out = cv2.VideoWriter(\"output.avi\", fourcc, fps, images[0].size)\n",
    "\n",
    "def draw_line(res, angle):\n",
    "    start = (int(res.shape[1]/2), int(res.shape[0]/2))\n",
    "    size = 50\n",
    "    \n",
    "    end = (\n",
    "        int(start[0] + size*math.sin(-angle)),\n",
    "        int(start[1] - size*math.cos(-angle))\n",
    "    )\n",
    "    \n",
    "    color = (255, 255, 255)\n",
    "    thickness = 2\n",
    "    cv2.arrowedLine(res, start, end, color, thickness)\n",
    "\n",
    "last_angles = 0\n",
    "for (idx, (img, angle)) in enumerate(zip(images, angles)):\n",
    "    res = np.array(img)\n",
    "    if idx % 10 == 0:\n",
    "        last_angle = angle\n",
    "\n",
    "    cv2.putText(res, \"%.2f\" % last_angle, (20, 20), cv2.FONT_HERSHEY_SIMPLEX, 0.5, (128, 128, 128), 2, cv2.LINE_AA)\n",
    "    draw_line(res, last_angle)\n",
    "\n",
    "    out.write(res)\n",
    "    \n",
    "out.release()"
   ]
  },
  {
   "cell_type": "code",
   "execution_count": 41,
   "metadata": {},
   "outputs": [
    {
     "data": {
      "text/plain": [
       "(224, 168)"
      ]
     },
     "execution_count": 41,
     "metadata": {},
     "output_type": "execute_result"
    }
   ],
   "source": [
    "images[0].size"
   ]
  },
  {
   "cell_type": "code",
   "execution_count": 60,
   "metadata": {},
   "outputs": [
    {
     "data": {
      "text/plain": [
       "(168, 224, 3)"
      ]
     },
     "execution_count": 60,
     "metadata": {},
     "output_type": "execute_result"
    }
   ],
   "source": [
    "np.array(images[0]).shape"
   ]
  },
  {
   "cell_type": "code",
   "execution_count": 69,
   "metadata": {},
   "outputs": [
    {
     "data": {
      "text/plain": [
       "<function numpy.mean(a, axis=None, dtype=None, out=None, keepdims=<no value>)>"
      ]
     },
     "execution_count": 69,
     "metadata": {},
     "output_type": "execute_result"
    }
   ],
   "source": [
    "np.mean"
   ]
  },
  {
   "cell_type": "code",
   "execution_count": null,
   "metadata": {},
   "outputs": [],
   "source": []
  }
 ],
 "metadata": {
  "kernelspec": {
   "display_name": "Python 3",
   "language": "python",
   "name": "python3"
  },
  "language_info": {
   "codemirror_mode": {
    "name": "ipython",
    "version": 3
   },
   "file_extension": ".py",
   "mimetype": "text/x-python",
   "name": "python",
   "nbconvert_exporter": "python",
   "pygments_lexer": "ipython3",
   "version": "3.7.4"
  }
 },
 "nbformat": 4,
 "nbformat_minor": 4
}
